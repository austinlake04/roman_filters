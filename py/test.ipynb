{
 "cells": [
  {
   "cell_type": "code",
   "execution_count": null,
   "metadata": {},
   "outputs": [],
   "source": []
  },
  {
   "attachments": {},
   "cell_type": "markdown",
   "metadata": {},
   "source": [
    "Testing Environment"
   ]
  },
  {
   "cell_type": "code",
   "execution_count": 7,
   "metadata": {},
   "outputs": [],
   "source": [
    "import sys\n",
    "import os\n",
    "cwd, _ = os.path.split(\"__file__\")\n",
    "parent_dir = os.path.join(cwd, \"..\")\n",
    "os.environ[\"BPZDATAPATH\"] = os.path.join(parent_dir, \"DESC_BPZ\", \"src\", \"desc_bpz\", \"data_files\")\n",
    "filt = os.path.join(os.path.expandvars(\"$LEPHAREWORK\"), \"filt\")\n",
    "lib_bin = os.path.join(os.path.expandvars(\"$LEPHAREWORK\"), \"lib_bin\")\n",
    "lib_mag = os.path.join(os.path.expandvars(\"$LEPHAREWORK\"), \"lib_mag\")\n",
    "output_paths = [filt, lib_bin, lib_mag]\n",
    "for path in output_paths:\n",
    "    if not os.path.isdir(path):\n",
    "        os.mkdir(path)"
   ]
  },
  {
   "attachments": {},
   "cell_type": "markdown",
   "metadata": {},
   "source": [
    "## PyLePHARE Tests"
   ]
  },
  {
   "cell_type": "code",
   "execution_count": 2,
   "metadata": {},
   "outputs": [],
   "source": [
    "import pandas\n",
    "from pylephare import io\n",
    "data = pandas.read_csv(io._PACKAGE_ROOT+\"/data/data_test.csv\", sep=\" \")\n",
    "configfile = None # default file stored in your $LEPHAREWORK/pylephare/config/default.config"
   ]
  },
  {
   "cell_type": "code",
   "execution_count": 3,
   "metadata": {},
   "outputs": [
    {
     "name": "stdout",
     "output_type": "stream",
     "text": [
      "         sdss.u    sdss.u.err         ps1.g     ps1.g.err         ps1.r  \\\n",
      "0  1.227194e-17  4.928681e-18  1.389326e-17  6.902862e-20  8.659294e-18   \n",
      "1  3.189998e-17  4.026194e-18  7.381098e-17  1.799055e-19  7.192829e-17   \n",
      "2  6.248074e-16  7.136033e-18  1.801086e-15  1.164064e-18  2.002177e-15   \n",
      "\n",
      "      ps1.r.err         ps1.i     ps1.i.err         ps1.z     ps1.z.err  \\\n",
      "0  2.922806e-20  9.346882e-18  4.667556e-20  3.230372e-18  2.169672e-20   \n",
      "1  9.228955e-20  8.032923e-17  1.650248e-19  6.790159e-17  9.719448e-20   \n",
      "2  4.736618e-19  2.109367e-15  8.014284e-19  1.743491e-15  4.585604e-19   \n",
      "\n",
      "   CONTEXT   Z-SPEC       STRING  \n",
      "0       31  0.03185       2007aj  \n",
      "1       31  0.03509        2002G  \n",
      "2       31  0.02824  ASASSN-15la  \n"
     ]
    }
   ],
   "source": [
    "print(data)"
   ]
  },
  {
   "cell_type": "code",
   "execution_count": 4,
   "metadata": {},
   "outputs": [
    {
     "ename": "FileNotFoundError",
     "evalue": "[Errno 2] No such file or directory: '/Users/allake/code/roman_filters/py/../LEPHARE/filt/ps1/g_ps.pb'",
     "output_type": "error",
     "traceback": [
      "\u001b[0;31m---------------------------------------------------------------------------\u001b[0m",
      "\u001b[0;31mFileNotFoundError\u001b[0m                         Traceback (most recent call last)",
      "Cell \u001b[0;32mIn[4], line 2\u001b[0m\n\u001b[1;32m      1\u001b[0m \u001b[39mfrom\u001b[39;00m \u001b[39mpylephare\u001b[39;00m \u001b[39mimport\u001b[39;00m lephare\n\u001b[0;32m----> 2\u001b[0m lp \u001b[39m=\u001b[39m lephare\u001b[39m.\u001b[39;49mLePhare(data, configfile)\n",
      "File \u001b[0;32m~/conda/envs/roman_filters/lib/python3.10/site-packages/pylephare-1.0.0-py3.10.egg/pylephare/lephare.py:285\u001b[0m, in \u001b[0;36m_LePhareBase_.__init__\u001b[0;34m(self, data, configfile, dirout, inhz, verbose)\u001b[0m\n\u001b[1;32m    282\u001b[0m \u001b[39mself\u001b[39m\u001b[39m.\u001b[39mio \u001b[39m=\u001b[39m IO(dirout)\n\u001b[1;32m    284\u001b[0m \u001b[39mif\u001b[39;00m data \u001b[39mis\u001b[39;00m \u001b[39mnot\u001b[39;00m \u001b[39mNone\u001b[39;00m:\n\u001b[0;32m--> 285\u001b[0m     \u001b[39mself\u001b[39;49m\u001b[39m.\u001b[39;49mset_data(data\u001b[39m=\u001b[39;49mdata, inhz\u001b[39m=\u001b[39;49minhz)\n\u001b[1;32m    287\u001b[0m \u001b[39mself\u001b[39m\u001b[39m.\u001b[39mset_config(configfile, verbose\u001b[39m=\u001b[39mverbose)\n",
      "File \u001b[0;32m~/conda/envs/roman_filters/lib/python3.10/site-packages/pylephare-1.0.0-py3.10.egg/pylephare/lephare.py:391\u001b[0m, in \u001b[0;36m_LePhareBase_.set_data\u001b[0;34m(self, data, inhz, verbose, **extras)\u001b[0m\n\u001b[1;32m    389\u001b[0m \u001b[39mif\u001b[39;00m \u001b[39mnot\u001b[39;00m inhz:\n\u001b[1;32m    390\u001b[0m     \u001b[39mfor\u001b[39;00m filter_ \u001b[39min\u001b[39;00m \u001b[39mself\u001b[39m\u001b[39m.\u001b[39mfilters:\n\u001b[0;32m--> 391\u001b[0m         data_[filter_]        \u001b[39m=\u001b[39m tools\u001b[39m.\u001b[39mflux_aa_to_hz(data_[filter_], \u001b[39mself\u001b[39;49m\u001b[39m.\u001b[39;49mfilter_bandpasses[filter_]\u001b[39m.\u001b[39mwave_eff)\n\u001b[1;32m    392\u001b[0m         data_[filter_\u001b[39m+\u001b[39m\u001b[39m\"\u001b[39m\u001b[39m.err\u001b[39m\u001b[39m\"\u001b[39m] \u001b[39m=\u001b[39m tools\u001b[39m.\u001b[39mflux_aa_to_hz(data_[filter_\u001b[39m+\u001b[39m\u001b[39m\"\u001b[39m\u001b[39m.err\u001b[39m\u001b[39m\"\u001b[39m], \u001b[39mself\u001b[39m\u001b[39m.\u001b[39mfilter_bandpasses[filter_]\u001b[39m.\u001b[39mwave_eff)\n\u001b[1;32m    393\u001b[0m \u001b[39m# // Setting\u001b[39;00m\n",
      "File \u001b[0;32m~/conda/envs/roman_filters/lib/python3.10/site-packages/pylephare-1.0.0-py3.10.egg/pylephare/base.py:51\u001b[0m, in \u001b[0;36m_FilterHolder_.filter_bandpasses\u001b[0;34m(self)\u001b[0m\n\u001b[1;32m     49\u001b[0m     \u001b[39mif\u001b[39;00m \u001b[39mnot\u001b[39;00m \u001b[39mself\u001b[39m\u001b[39m.\u001b[39mhas_filters():\n\u001b[1;32m     50\u001b[0m         \u001b[39mraise\u001b[39;00m \u001b[39mAttributeError\u001b[39;00m(\u001b[39m\"\u001b[39m\u001b[39mNo filter loaded\u001b[39m\u001b[39m\"\u001b[39m)\n\u001b[0;32m---> 51\u001b[0m     \u001b[39mself\u001b[39m\u001b[39m.\u001b[39m_filter_bandpass \u001b[39m=\u001b[39m {filter_: get_filter_bandpass(filter_) \u001b[39mfor\u001b[39;00m filter_ \u001b[39min\u001b[39;00m \u001b[39mself\u001b[39m\u001b[39m.\u001b[39mfilters}\n\u001b[1;32m     53\u001b[0m \u001b[39mreturn\u001b[39;00m \u001b[39mself\u001b[39m\u001b[39m.\u001b[39m_filter_bandpass\n",
      "File \u001b[0;32m~/conda/envs/roman_filters/lib/python3.10/site-packages/pylephare-1.0.0-py3.10.egg/pylephare/base.py:51\u001b[0m, in \u001b[0;36m<dictcomp>\u001b[0;34m(.0)\u001b[0m\n\u001b[1;32m     49\u001b[0m     \u001b[39mif\u001b[39;00m \u001b[39mnot\u001b[39;00m \u001b[39mself\u001b[39m\u001b[39m.\u001b[39mhas_filters():\n\u001b[1;32m     50\u001b[0m         \u001b[39mraise\u001b[39;00m \u001b[39mAttributeError\u001b[39;00m(\u001b[39m\"\u001b[39m\u001b[39mNo filter loaded\u001b[39m\u001b[39m\"\u001b[39m)\n\u001b[0;32m---> 51\u001b[0m     \u001b[39mself\u001b[39m\u001b[39m.\u001b[39m_filter_bandpass \u001b[39m=\u001b[39m {filter_: get_filter_bandpass(filter_) \u001b[39mfor\u001b[39;00m filter_ \u001b[39min\u001b[39;00m \u001b[39mself\u001b[39m\u001b[39m.\u001b[39mfilters}\n\u001b[1;32m     53\u001b[0m \u001b[39mreturn\u001b[39;00m \u001b[39mself\u001b[39m\u001b[39m.\u001b[39m_filter_bandpass\n",
      "File \u001b[0;32m~/conda/envs/roman_filters/lib/python3.10/site-packages/pylephare-1.0.0-py3.10.egg/pylephare/io.py:74\u001b[0m, in \u001b[0;36mget_filter_bandpass\u001b[0;34m(filtername, **kwargs)\u001b[0m\n\u001b[1;32m     56\u001b[0m \u001b[39mdef\u001b[39;00m \u001b[39mget_filter_bandpass\u001b[39m(filtername,\u001b[39m*\u001b[39m\u001b[39m*\u001b[39mkwargs):\n\u001b[1;32m     57\u001b[0m \u001b[39m    \u001b[39m\u001b[39m\"\"\"\u001b[39;00m\n\u001b[1;32m     58\u001b[0m \u001b[39m    Return the sncosmo.Bandpass associated to the given filter\u001b[39;00m\n\u001b[1;32m     59\u001b[0m \u001b[39m    \u001b[39;00m\n\u001b[0;32m   (...)\u001b[0m\n\u001b[1;32m     72\u001b[0m \u001b[39m    float\u001b[39;00m\n\u001b[1;32m     73\u001b[0m \u001b[39m    \"\"\"\u001b[39;00m\n\u001b[0;32m---> 74\u001b[0m     \u001b[39mreturn\u001b[39;00m IO()\u001b[39m.\u001b[39;49mget_filter_bandpass(filtername,\u001b[39m*\u001b[39;49m\u001b[39m*\u001b[39;49mkwargs)\n",
      "File \u001b[0;32m~/conda/envs/roman_filters/lib/python3.10/site-packages/pylephare-1.0.0-py3.10.egg/pylephare/io.py:280\u001b[0m, in \u001b[0;36mIO.get_filter_bandpass\u001b[0;34m(self, filtername, **kwargs)\u001b[0m\n\u001b[1;32m    262\u001b[0m \u001b[39m\u001b[39m\u001b[39m\"\"\"\u001b[39;00m\n\u001b[1;32m    263\u001b[0m \u001b[39mReturn the sncosmo.Bandpass associated to the given filter\u001b[39;00m\n\u001b[1;32m    264\u001b[0m \u001b[39m\u001b[39;00m\n\u001b[0;32m   (...)\u001b[0m\n\u001b[1;32m    277\u001b[0m \u001b[39mfloat\u001b[39;00m\n\u001b[1;32m    278\u001b[0m \u001b[39m\"\"\"\u001b[39;00m\n\u001b[1;32m    279\u001b[0m \u001b[39mfrom\u001b[39;00m \u001b[39msncosmo\u001b[39;00m \u001b[39mimport\u001b[39;00m bandpasses\n\u001b[0;32m--> 280\u001b[0m wave, trans \u001b[39m=\u001b[39m np\u001b[39m.\u001b[39masarray([l\u001b[39m.\u001b[39msplit() \u001b[39mfor\u001b[39;00m l \u001b[39min\u001b[39;00m \u001b[39mopen\u001b[39;49m(\u001b[39mself\u001b[39;49m\u001b[39m.\u001b[39;49mget_filterfile(filtername))\u001b[39m.\u001b[39mread()\u001b[39m.\u001b[39msplitlines()\n\u001b[1;32m    281\u001b[0m                               \u001b[39mif\u001b[39;00m \u001b[39mlen\u001b[39m(l)\u001b[39m>\u001b[39m\u001b[39m0\u001b[39m \u001b[39mand\u001b[39;00m \u001b[39mnot\u001b[39;00m l\u001b[39m.\u001b[39mstartswith(\u001b[39m\"\u001b[39m\u001b[39m#\u001b[39m\u001b[39m\"\u001b[39m)], \n\u001b[1;32m    282\u001b[0m                              dtype\u001b[39m=\u001b[39m\u001b[39m\"\u001b[39m\u001b[39mfloat\u001b[39m\u001b[39m\"\u001b[39m)\u001b[39m.\u001b[39mT\n\u001b[1;32m    284\u001b[0m \u001b[39mreturn\u001b[39;00m bandpasses\u001b[39m.\u001b[39mBandpass(wave, trans, \u001b[39m*\u001b[39m\u001b[39m*\u001b[39mkwargs)\n",
      "\u001b[0;31mFileNotFoundError\u001b[0m: [Errno 2] No such file or directory: '/Users/allake/code/roman_filters/py/../LEPHARE/filt/ps1/g_ps.pb'"
     ]
    }
   ],
   "source": [
    "from pylephare import lephare\n",
    "lp = lephare.LePhare(data, configfile)"
   ]
  },
  {
   "cell_type": "code",
   "execution_count": null,
   "metadata": {},
   "outputs": [],
   "source": [
    "fileouts = lp.run()"
   ]
  },
  {
   "cell_type": "code",
   "execution_count": null,
   "metadata": {},
   "outputs": [],
   "source": [
    "lp.config.get_config(\"configfile\")"
   ]
  },
  {
   "attachments": {},
   "cell_type": "markdown",
   "metadata": {},
   "source": [
    "## Monte Carlo Fit"
   ]
  },
  {
   "cell_type": "code",
   "execution_count": null,
   "metadata": {},
   "outputs": [],
   "source": [
    "data = pandas.read_csv(io._PACKAGE_ROOT+\"/data/data_test.csv\", sep=\" \")\n",
    "target = data.iloc[0]\n",
    "\n",
    "configfile = None # use the default one"
   ]
  },
  {
   "cell_type": "code",
   "execution_count": null,
   "metadata": {},
   "outputs": [],
   "source": [
    "from pylephare import montecarlo\n",
    "mclp = montecarlo.MCLePhare(target, 50)"
   ]
  },
  {
   "cell_type": "code",
   "execution_count": null,
   "metadata": {},
   "outputs": [],
   "source": [
    "mclp.load_lephare(configfile)"
   ]
  },
  {
   "cell_type": "code",
   "execution_count": null,
   "metadata": {},
   "outputs": [],
   "source": [
    "mclp.lephare.config.set_intrinsic_error([0.1,0.08,0.08,0.08,0.1])"
   ]
  },
  {
   "cell_type": "code",
   "execution_count": null,
   "metadata": {},
   "outputs": [],
   "source": [
    "mclp.run()"
   ]
  },
  {
   "cell_type": "code",
   "execution_count": null,
   "metadata": {},
   "outputs": [],
   "source": [
    "mclp.show()"
   ]
  },
  {
   "cell_type": "code",
   "execution_count": null,
   "metadata": {},
   "outputs": [],
   "source": [
    "mclp.catout"
   ]
  },
  {
   "cell_type": "code",
   "execution_count": null,
   "metadata": {},
   "outputs": [],
   "source": [
    "mclp.get_synthetic_photometry('sdss.u', restframe=True, influx=False)"
   ]
  },
  {
   "cell_type": "code",
   "execution_count": 21,
   "metadata": {},
   "outputs": [
    {
     "name": "stdout",
     "output_type": "stream",
     "text": [
      "/Users/allake/code/roman_filters/py\n",
      "/Users/allake/code/roman_filters/py/..\n",
      "/Users/allake/code/roman_filters/DESC_BPZ/src/desc_bpz/data_files\n"
     ]
    }
   ],
   "source": [
    "cwd = os.path.abspath(os.path.split(\"__file__\")[0])\n",
    "parent_dir = os.path.join(cwd, \"..\")\n",
    "# os.environ[\"LEPHAREDIR\"] = os.path.join(parent_dir, \"LEPHARE\")\n",
    "# os.environ[\"LEPHAREWORK\"] = os.path.join(cwd)\n",
    "os.environ[\"BPZDATAPATH\"] = os.path.abspath(os.path.join(parent_dir, \"DESC_BPZ\", \"src\", \"desc_bpz\", \"data_files\"))\n",
    "data_dir = os.environ.get(\"BPZDATAPATH\", None)\n",
    "fil_dir = None if data_dir is None else os.path.join(data_dir, \"FILTER\")\n",
    "ab_dir = None if data_dir is None else os.path.join(data_dir, \"AB\")\n",
    "sed_dir = None if data_dir is None else os.path.join(data_dir, \"SED\")\n",
    "paths = [cwd, parent_dir, os.environ.get(\"BPZDATAPATH\", None)]\n",
    "for path in paths:\n",
    "    print(path)"
   ]
  },
  {
   "attachments": {},
   "cell_type": "markdown",
   "metadata": {},
   "source": [
    "## BPZ Tests"
   ]
  },
  {
   "cell_type": "code",
   "execution_count": 3,
   "metadata": {},
   "outputs": [],
   "source": [
    "import desc_bpz"
   ]
  },
  {
   "cell_type": "code",
   "execution_count": 19,
   "metadata": {},
   "outputs": [
    {
     "name": "stdout",
     "output_type": "stream",
     "text": [
      "../DESC_BPZ/src/desc_bpz/data_files\n"
     ]
    }
   ],
   "source": []
  },
  {
   "cell_type": "code",
   "execution_count": 14,
   "metadata": {},
   "outputs": [],
   "source": [
    "import inspect\n",
    "\n",
    "names = dir(desc_bpz)\n",
    "\n",
    "for name in names:\n",
    "    obj = getattr(desc_bpz, name)\n",
    "    if inspect.isfunction(obj):\n",
    "        print(name)"
   ]
  },
  {
   "cell_type": "code",
   "execution_count": 15,
   "metadata": {},
   "outputs": [],
   "source": [
    "members = inspect.getmembers(desc_bpz)\n",
    "\n",
    "functions = [m for m in members if inspect.isfunction(m[1])]\n",
    "\n",
    "for name, obj in functions:\n",
    "    print(name)"
   ]
  },
  {
   "cell_type": "code",
   "execution_count": 4,
   "metadata": {},
   "outputs": [],
   "source": [
    "import numpy as np\n",
    "from desc_bpz.bpz_tools_py3 import prior_with_dict, prior\n",
    "\n",
    "def test_old_vs_new_prior():\n",
    "    zgrid = np.arange(0, 10.01, 0.1)\n",
    "    mags = np.array([20.5, 21., 22.])\n",
    "    # copy params needed for hdfn_gen prior\n",
    "    paramdict = dict(fo_arr=[0.35, 0.5], kt_arr=[0.45, 0.147],\n",
    "                     alpha_arr=[2.465, 1.806, 0.906],\n",
    "                     zo_arr=[0.431, 0.390, 0.0626],\n",
    "                     km_arr=[0.0913, 0.0636, 0.123],\n",
    "                     m0=20.0,\n",
    "                     numpertype=[1, 2, 3])\n",
    "\n",
    "    for mag in mags:\n",
    "        oldprior = prior(zgrid, mag, 'hdfn_gen')\n",
    "        newprior = prior_with_dict(zgrid, mag, paramdict)\n",
    "        assert (oldprior == newprior).all()\n",
    "test_old_vs_new_prior()"
   ]
  },
  {
   "cell_type": "code",
   "execution_count": 10,
   "metadata": {},
   "outputs": [
    {
     "ename": "Skipped",
     "evalue": "desc_bpz already imported by another test and path set",
     "output_type": "error",
     "traceback": [
      "\u001b[0;31m---------------------------------------------------------------------------\u001b[0m",
      "\u001b[0;31mSkipped\u001b[0m                                   Traceback (most recent call last)",
      "Cell \u001b[0;32mIn[10], line 45\u001b[0m\n\u001b[1;32m     41\u001b[0m     \u001b[39massert\u001b[39;00m os\u001b[39m.\u001b[39mpath\u001b[39m.\u001b[39mexists(desc_bpz\u001b[39m.\u001b[39mpaths\u001b[39m.\u001b[39mget_fil_file(\u001b[39m\"\u001b[39m\u001b[39mDC2LSST_g.res\u001b[39m\u001b[39m\"\u001b[39m))\n\u001b[1;32m     42\u001b[0m     \u001b[39massert\u001b[39;00m os\u001b[39m.\u001b[39mpath\u001b[39m.\u001b[39mexists(desc_bpz\u001b[39m.\u001b[39mpaths\u001b[39m.\u001b[39mget_sed_file(\u001b[39m\"\u001b[39m\u001b[39mCWWSB4.list\u001b[39m\u001b[39m\"\u001b[39m))\n\u001b[0;32m---> 45\u001b[0m test_no_path()\n\u001b[1;32m     46\u001b[0m test_path()\n",
      "Cell \u001b[0;32mIn[10], line 22\u001b[0m, in \u001b[0;36mtest_no_path\u001b[0;34m()\u001b[0m\n\u001b[1;32m     20\u001b[0m         os\u001b[39m.\u001b[39menviron[\u001b[39m\"\u001b[39m\u001b[39mBPZDATAPATH\u001b[39m\u001b[39m\"\u001b[39m] \u001b[39m=\u001b[39m tmp\n\u001b[1;32m     21\u001b[0m     \u001b[39m# then mark the test as skipped\u001b[39;00m\n\u001b[0;32m---> 22\u001b[0m     pytest\u001b[39m.\u001b[39;49mskip(\u001b[39m\"\u001b[39;49m\u001b[39mdesc_bpz already imported by another test and path set\u001b[39;49m\u001b[39m\"\u001b[39;49m)\n\u001b[1;32m     24\u001b[0m \u001b[39m# should fail if BPZDATAPATH not set and we have not set manually\u001b[39;00m\n\u001b[1;32m     25\u001b[0m \u001b[39mwith\u001b[39;00m pytest\u001b[39m.\u001b[39mraises(\u001b[39mRuntimeError\u001b[39;00m):\n",
      "File \u001b[0;32m~/conda/envs/roman_filters/lib/python3.10/site-packages/_pytest/outcomes.py:179\u001b[0m, in \u001b[0;36mskip\u001b[0;34m(reason, allow_module_level, msg)\u001b[0m\n\u001b[1;32m    177\u001b[0m __tracebackhide__ \u001b[39m=\u001b[39m \u001b[39mTrue\u001b[39;00m\n\u001b[1;32m    178\u001b[0m reason \u001b[39m=\u001b[39m _resolve_msg_to_reason(\u001b[39m\"\u001b[39m\u001b[39mskip\u001b[39m\u001b[39m\"\u001b[39m, reason, msg)\n\u001b[0;32m--> 179\u001b[0m \u001b[39mraise\u001b[39;00m Skipped(msg\u001b[39m=\u001b[39mreason, allow_module_level\u001b[39m=\u001b[39mallow_module_level)\n",
      "\u001b[0;31mSkipped\u001b[0m: desc_bpz already imported by another test and path set"
     ]
    }
   ],
   "source": [
    "import os\n",
    "import pytest\n",
    "# dirname, _ = os.path.split(__file__)\n",
    "# parent = os.path.join(dirname, '../src/desc_bpz/data_files/')\n",
    "\n",
    "\n",
    "# This test has to go first \n",
    "def test_no_path():\n",
    "    tmp = os.environ.get(\"BPZDATAPATH\")\n",
    "    if tmp is not None:\n",
    "        del os.environ[\"BPZDATAPATH\"]\n",
    "\n",
    "    import desc_bpz.paths\n",
    "\n",
    "    # Future proof in case a later test import the\n",
    "    # module and are called first\n",
    "    if desc_bpz.paths.data_dir is not None:\n",
    "        # In this case first restore the env var\n",
    "        if tmp is not None:\n",
    "            os.environ[\"BPZDATAPATH\"] = tmp\n",
    "        # then mark the test as skipped\n",
    "        pytest.skip(\"desc_bpz already imported by another test and path set\")\n",
    "\n",
    "    # should fail if BPZDATAPATH not set and we have not set manually\n",
    "    with pytest.raises(RuntimeError):\n",
    "        print(desc_bpz.paths.get_ab_file(\"El_B2004a.DC2LSST_g.AB\"))\n",
    "\n",
    "    # restore env var\n",
    "    if tmp is not None:\n",
    "        os.environ[\"BPZDATAPATH\"] = tmp\n",
    "\n",
    "\n",
    "def test_path():\n",
    "    import desc_bpz.paths\n",
    "    data_dir = os.environ.get(\"BPZDATAPATH\", None)\n",
    "    fil_dir = None if data_dir is None else data_dir + \"/FILTER/\"\n",
    "    ab_dir = None if data_dir is None else data_dir + \"/AB/\"\n",
    "    sed_dir = None if data_dir is None else data_dir + \"/SED/\"\n",
    "    print(os.environ.get(\"BPZDATAPATH\"))\n",
    "    assert os.path.exists(desc_bpz.paths.get_ab_file(\"El_B2004a.DC2LSST_g.AB\"))\n",
    "    assert os.path.exists(desc_bpz.paths.get_fil_file(\"DC2LSST_g.res\"))\n",
    "    assert os.path.exists(desc_bpz.paths.get_sed_file(\"CWWSB4.list\"))\n",
    "\n",
    "\n",
    "test_no_path()\n",
    "test_path()\n"
   ]
  },
  {
   "cell_type": "code",
   "execution_count": 8,
   "metadata": {},
   "outputs": [
    {
     "name": "stdout",
     "output_type": "stream",
     "text": [
      "/Users/allake/code/roman_filters/DESC_BPZ/src/desc_bpz/data_files\n"
     ]
    }
   ],
   "source": [
    "import os\n",
    "import git\n",
    "\n",
    "base_dir = os.path.abspath(git.Repo('.', search_parent_directories=True).working_tree_dir)\n",
    "os.environ[\"BPZDATAPATH\"] = os.path.abspath(os.path.join(base_dir, \"DESC_BPZ\", \"src\", \"desc_bpz\", \"data_files\"))\n",
    "path = \"$BPZDATAPATH\"\n",
    "print(os.path.expandvars(path))"
   ]
  }
 ],
 "metadata": {
  "kernelspec": {
   "display_name": "Python 3.11.2 64-bit",
   "language": "python",
   "name": "python3"
  },
  "language_info": {
   "codemirror_mode": {
    "name": "ipython",
    "version": 3
   },
   "file_extension": ".py",
   "mimetype": "text/x-python",
   "name": "python",
   "nbconvert_exporter": "python",
   "pygments_lexer": "ipython3",
   "version": "3.11.2"
  },
  "orig_nbformat": 4,
  "vscode": {
   "interpreter": {
    "hash": "aee8b7b246df8f9039afb4144a1f6fd8d2ca17a180786b69acc140d282b71a49"
   }
  }
 },
 "nbformat": 4,
 "nbformat_minor": 2
}
