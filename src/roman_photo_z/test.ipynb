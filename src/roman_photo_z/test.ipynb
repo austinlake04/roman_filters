{
 "cells": [
  {
   "cell_type": "code",
   "execution_count": null,
   "metadata": {},
   "outputs": [],
   "source": [
    "import sys\n",
    "import os\n",
    "import desc_bpz\n",
    "cwd, _ = os.path.split(\"__file__\")\n",
    "parent_dir = os.path.abspath(os.path.join(cwd, \"..\"))\n",
    "print(parent_dir)\n",
    "os.environ[\"BPZDATAPATH\"] = os.path.join(parent_dir, \"DESC_BPZ\", \"src\", \"desc_bpz\", \"data_files\")\n"
   ]
  },
  {
   "cell_type": "code",
   "execution_count": null,
   "metadata": {},
   "outputs": [],
   "source": [
    "sys.float_info.min"
   ]
  },
  {
   "attachments": {},
   "cell_type": "markdown",
   "metadata": {},
   "source": [
    "## BPZ Tests"
   ]
  },
  {
   "cell_type": "code",
   "execution_count": null,
   "metadata": {},
   "outputs": [],
   "source": [
    "cwd = os.path.abspath(os.path.split(\"__file__\")[0])\n",
    "parent_dir = os.path.join(cwd, \"..\")\n",
    "# os.environ[\"LEPHAREDIR\"] = os.path.join(parent_dir, \"LEPHARE\")\n",
    "# os.environ[\"LEPHAREWORK\"] = os.path.join(cwd)\n",
    "os.environ[\"BPZDATAPATH\"] = os.path.abspath(os.path.join(parent_dir, \"DESC_BPZ\", \"src\", \"desc_bpz\", \"data_files\"))\n",
    "data_dir = os.environ.get(\"BPZDATAPATH\", None)\n",
    "fil_dir = None if data_dir is None else os.path.join(data_dir, \"FILTER\")\n",
    "ab_dir = None if data_dir is None else os.path.join(data_dir, \"AB\")\n",
    "sed_dir = None if data_dir is None else os.path.join(data_dir, \"SED\")\n",
    "paths = [cwd, parent_dir, os.environ.get(\"BPZDATAPATH\", None)]\n",
    "for path in paths:\n",
    "    print(path)"
   ]
  },
  {
   "cell_type": "code",
   "execution_count": null,
   "metadata": {},
   "outputs": [],
   "source": [
    "import numpy as np\n",
    "from desc_bpz.bpz_tools_py3 import prior_with_dict, prior\n",
    "\n",
    "def test_old_vs_new_prior():\n",
    "    zgrid = np.arange(0, 10.01, 0.1)\n",
    "    mags = np.array([20.5, 21., 22.])\n",
    "    # copy params needed for hdfn_gen prior\n",
    "    paramdict = dict(fo_arr=[0.35, 0.5], kt_arr=[0.45, 0.147],\n",
    "                     alpha_arr=[2.465, 1.806, 0.906],\n",
    "                     zo_arr=[0.431, 0.390, 0.0626],\n",
    "                     km_arr=[0.0913, 0.0636, 0.123],\n",
    "                     m0=20.0,\n",
    "                     numpertype=[1, 2, 3])\n",
    "\n",
    "    for mag in mags:\n",
    "        oldprior = prior(zgrid, mag, 'hdfn_gen')\n",
    "        newprior = prior_with_dict(zgrid, mag, paramdict)\n",
    "        assert (oldprior == newprior).all()\n",
    "test_old_vs_new_prior()"
   ]
  },
  {
   "cell_type": "code",
   "execution_count": null,
   "metadata": {},
   "outputs": [],
   "source": [
    "import os\n",
    "import pytest\n",
    "# dirname, _ = os.path.split(__file__)\n",
    "# parent = os.path.join(dirname, '../src/desc_bpz/data_files/')\n",
    "\n",
    "\n",
    "# This test has to go first \n",
    "def test_no_path():\n",
    "    tmp = os.environ.get(\"BPZDATAPATH\")\n",
    "    if tmp is not None:\n",
    "        del os.environ[\"BPZDATAPATH\"]\n",
    "\n",
    "    import desc_bpz.paths\n",
    "\n",
    "    # Future proof in case a later test import the\n",
    "    # module and are called first\n",
    "    if desc_bpz.paths.data_dir is not None:\n",
    "        # In this case first restore the env var\n",
    "        if tmp is not None:\n",
    "            os.environ[\"BPZDATAPATH\"] = tmp\n",
    "        # then mark the test as skipped\n",
    "        pytest.skip(\"desc_bpz already imported by another test and path set\")\n",
    "\n",
    "    # should fail if BPZDATAPATH not set and we have not set manually\n",
    "    with pytest.raises(RuntimeError):\n",
    "        print(desc_bpz.paths.get_ab_file(\"El_B2004a.DC2LSST_g.AB\"))\n",
    "\n",
    "    # restore env var\n",
    "    if tmp is not None:\n",
    "        os.environ[\"BPZDATAPATH\"] = tmp\n",
    "\n",
    "\n",
    "def test_path():\n",
    "    import desc_bpz.paths\n",
    "    data_dir = os.environ.get(\"BPZDATAPATH\", None)\n",
    "    fil_dir = None if data_dir is None else data_dir + \"/FILTER/\"\n",
    "    ab_dir = None if data_dir is None else data_dir + \"/AB/\"\n",
    "    sed_dir = None if data_dir is None else data_dir + \"/SED/\"\n",
    "    print(os.environ.get(\"BPZDATAPATH\"))\n",
    "    assert os.path.exists(desc_bpz.paths.get_ab_file(\"El_B2004a.DC2LSST_g.AB\"))\n",
    "    assert os.path.exists(desc_bpz.paths.get_fil_file(\"DC2LSST_g.res\"))\n",
    "    assert os.path.exists(desc_bpz.paths.get_sed_file(\"CWWSB4.list\"))\n",
    "\n",
    "\n",
    "test_no_path()\n",
    "test_path()\n"
   ]
  },
  {
   "cell_type": "code",
   "execution_count": null,
   "metadata": {},
   "outputs": [],
   "source": [
    "import os\n",
    "import git\n",
    "\n",
    "base_dir = os.path.abspath(git.Repo('.', search_parent_directories=True).working_tree_dir)\n",
    "os.environ[\"BPZDATAPATH\"] = os.path.abspath(os.path.join(base_dir, \"DESC_BPZ\", \"src\", \"desc_bpz\", \"data_files\"))\n",
    "path = \"$BPZDATAPATH\"\n",
    "print(os.path.expandvars(path))"
   ]
  },
  {
   "cell_type": "markdown",
   "metadata": {},
   "source": [
    "## Roman Filter Transmission Data"
   ]
  },
  {
   "cell_type": "code",
   "execution_count": null,
   "metadata": {},
   "outputs": [],
   "source": [
    "# import pandas as pd\n",
    "# import numpy as np\n",
    "# aperature = np.pi * 1.2**2\n",
    "# df = pd.read_csv(\"Roman_effarea_20210614.csv\").drop(columns=['SNPrism', 'Grism_1stOrder', 'Grism_0thOrder'])\n",
    "# filters = ['F062', 'F087', 'F106', 'F129', 'F158', 'F184', 'F146', 'F213']\n",
    "# df[\"Wave\"] *= 10000 # convert from micron to angstrom units for BPZ\n",
    "# df[\"Wave\"] = df[\"Wave\"].astype(int) # convert from micron to angstrom units\n",
    "# print(\"Gains above one:\")\n",
    "# for filter in filters:\n",
    "#     df[filter] = df[filter] / aperature # effective area to gain (1e-10 is needed to convert from angstrom to meters)\n",
    "#     print(df[filter][df[filter]>1])\n",
    "\n",
    "# for filter in filters:\n",
    "#     df[[\"Wave\", filter]].rename(columns={\"Wave\": \"#Wavelength(AA)\", filter: \"Transmission\"}).to_csv(f\"data_files/RST_{filter}.res\", sep=\" \", index=False)"
   ]
  },
  {
   "cell_type": "code",
   "execution_count": null,
   "metadata": {},
   "outputs": [],
   "source": [
    "# equivalencies = [ (u.Jy, u.erg/u.s/u.cm**2/u.AA, lambda x: 1e-33 * x / c.value , lambda x: c.value * x / 1e-33) ] \n",
    "# LSST_units = 1e-9*u.Jy\n",
    "# flux_conversion = (LSST_units).to(u.erg/u.s/u.cm**2/u.AA, equivalencies=equivalencies)\n",
    "# print(type(flux_conversion))"
   ]
  },
  {
   "cell_type": "code",
   "execution_count": null,
   "metadata": {},
   "outputs": [],
   "source": [
    "import pandas as pd\n",
    "# data sourced from https://roman.gsfc.nasa.gov/science/RRI/Roman_effarea_20210614.xlsx\n",
    "df = pd.read_excel(\"Roman_effarea_20210614.xlsx\", skiprows=1)\n",
    "df.columns = [column.strip() for column in df.columns]\n",
    "df = df.drop(columns=[\"SNPrism\", \"Grism_1stOrder\", \"Grism_0thOrder\"])\n",
    "print(df.columns)"
   ]
  },
  {
   "cell_type": "code",
   "execution_count": null,
   "metadata": {},
   "outputs": [],
   "source": [
    "for column in df.columns:\n",
    "    print(df[column].dtype)"
   ]
  },
  {
   "cell_type": "code",
   "execution_count": 11,
   "metadata": {},
   "outputs": [],
   "source": [
    "import astropy.units as u\n",
    "from astropy.constants import c, h\n",
    "import pandas as pd\n",
    "import numpy as np\n",
    "from synphot import units, SourceSpectrum, SpectralElement, Observation\n",
    "from synphot.models import Empirical1D\n",
    "from tqdm import tqdm\n",
    "from scipy.integrate import quad\n",
    "import os\n",
    "import desc_bpz\n",
    "\n",
    "current_dir, _ = os.path.split(\"__file__\")\n",
    "\n",
    "bpz_dir, _ = os.path.split(desc_bpz.__file__)\n",
    "sed_dir = os.path.join(bpz_dir, \"data_files\", \"SED\")\n",
    "\n",
    "z_range = np.linspace(start=0.005, stop=3.505, num=int(3.5/0.01))\n",
    "verbose = False\n"
   ]
  },
  {
   "cell_type": "code",
   "execution_count": 12,
   "metadata": {},
   "outputs": [],
   "source": [
    "def load_filters() -> pd.DataFrame:\n",
    "    \"\"\"Loads filter transmission profiles\n",
    "\n",
    "    Parameters\n",
    "    ----------\n",
    "    None\n",
    "\n",
    "    Returns\n",
    "    -------\n",
    "    filters: pandas.DataFrame\n",
    "        Filter transmission profiles as a function of wavelength\n",
    "    \"\"\"\n",
    "    global current_dir\n",
    "    filters = pd.read_excel(os.path.join(current_dir, \"data_files\", \"FILTER\", \"Roman_effarea_20210614.xlsx\"), skiprows=1)\n",
    "    filters.columns = [column.strip() for column in filters.columns]\n",
    "    if filters[\"Wave\"][0] == 0:\n",
    "        filters.drop(0, inplace=True)\n",
    "    filters.drop(columns=[\"SNPrism\", \"Grism_1stOrder\", \"Grism_0thOrder\"], inplace=True)\n",
    "    filters[\"Wave\"] *= 10000 # micron to angstrom conversion\n",
    "    filters[filters.columns.drop(\"Wave\")] /= np.pi * 1.2**2 # effective area to throughput conversion\n",
    "    return filters\n",
    "\n",
    "def spectral(wavelengths: np.ndarray) -> np.ndarray:\n",
    "    \"\"\"Converts wavelengths of arbitrary units into frequencies in units Hertz (Hz)\n",
    "\n",
    "    Parameters\n",
    "    ----------\n",
    "    wavelenths: stropy.unit.quantity.Quantity\n",
    "        Wavelengths of arbitrary units\n",
    "\n",
    "    Returns\n",
    "    -------\n",
    "    frequencies: astropy.unit.quantity.Quantity\n",
    "        Frequencies in units of Hertz (Hz)\n",
    "    \n",
    "    \"\"\"\n",
    "    frequencies = (wavelengths).to(u.Hz, equivalencies=u.spectral())\n",
    "    return frequencies\n",
    "\n",
    "filter_data = load_filters()\n",
    "filter_ids = filter_data.columns.drop(\"Wave\")\n",
    "transmission_profiles, a_values, b_values = [], [], []\n",
    "frequencies = spectral(filter_data[\"Wave\"].to_numpy()*u.AA)\n",
    "for filter_id in filter_ids:\n",
    "    transmission_profiles.append(SpectralElement(Empirical1D, points=frequencies, lookup_table=filter_data[filter_id].to_numpy()))\n",
    "    valid_indx = np.argwhere(filter_data[filter_id] > 0).flatten()\n",
    "    a_values.append(np.min(filter_data[\"Wave\"][valid_indx]))\n",
    "    b_values.append(np.max(filter_data[\"Wave\"][valid_indx]))\n",
    "    assert(a_values[-1]<b_values[-1])\n",
    "\n",
    "    # filter_data = []\n",
    "    # filter_ids = []\n",
    "    # for filter_file in tqdm(sorted([f for f in os.listdir(filter_dir) if \"RST\" in f]),\n",
    "    #                         desc=\"Loading filter transmission profiles:\",\n",
    "    #                         disable=(not args.verbose), position=0):\n",
    "    #     filter_ids.append(int(filter_file[filter_file.find(\"_\")+2:filter_file.find(\".\")]))\n",
    "    #     filter_data.append(SpectralElement.from_file(os.path.join(filter_dir, filter_file), data_start=1))\n",
    "    \n"
   ]
  },
  {
   "cell_type": "code",
   "execution_count": 18,
   "metadata": {},
   "outputs": [
    {
     "name": "stderr",
     "output_type": "stream",
     "text": [
      "Redshifts for SB3 Type Galaxy:   0%|          | 0/350 [00:00<?, ?it/s]"
     ]
    },
    {
     "name": "stderr",
     "output_type": "stream",
     "text": [
      "/var/folders/8n/sm5x42hd1qlcn9q_5fqqkdfc0000gn/T/ipykernel_70788/1791165288.py:20: IntegrationWarning: The maximum number of subdivisions (50) has been achieved.\n",
      "  If increasing the limit yields no improvement it is advised to analyze \n",
      "  the integrand in order to determine the difficulties.  If the position of a \n",
      "  local difficulty can be determined (singularity, discontinuity) one will \n",
      "  probably gain from splitting up the interval and calling the integrator \n",
      "  on the subranges.  Perhaps a special-purpose integrator should be used.\n",
      "  return 2.5*np.log10(quad(lambda f: transmission_profile(f).value * 3631 / (h.value  * f), a, b)[0]/quad(lambda f: transmission_profile(f).value * sed(f).value / (h.value * f), a, b)[0]) # m_AB\n",
      "Redshifts for SB3 Type Galaxy:   1%|          | 3/350 [00:58<1:51:56, 19.36s/it]/var/folders/8n/sm5x42hd1qlcn9q_5fqqkdfc0000gn/T/ipykernel_70788/1791165288.py:20: IntegrationWarning: The occurrence of roundoff error is detected, which prevents \n",
      "  the requested tolerance from being achieved.  The error may be \n",
      "  underestimated.\n",
      "  return 2.5*np.log10(quad(lambda f: transmission_profile(f).value * 3631 / (h.value  * f), a, b)[0]/quad(lambda f: transmission_profile(f).value * sed(f).value / (h.value * f), a, b)[0]) # m_AB\n",
      "Redshifts for SB3 Type Galaxy: 100%|██████████| 350/350 [1:55:51<00:00, 19.86s/it]  \n",
      "Redshifts for Scd Type Galaxy:  55%|█████▍    | 191/350 [55:32<46:14, 17.45s/it]  \n"
     ]
    },
    {
     "ename": "KeyboardInterrupt",
     "evalue": "",
     "output_type": "error",
     "traceback": [
      "\u001b[0;31m---------------------------------------------------------------------------\u001b[0m",
      "\u001b[0;31mKeyboardInterrupt\u001b[0m                         Traceback (most recent call last)",
      "Cell \u001b[0;32mIn[18], line 31\u001b[0m\n\u001b[1;32m     29\u001b[0m \u001b[39mfor\u001b[39;00m j, z \u001b[39min\u001b[39;00m \u001b[39menumerate\u001b[39m(tqdm(z_range, desc\u001b[39m=\u001b[39m\u001b[39mf\u001b[39m\u001b[39m\"\u001b[39m\u001b[39mRedshifts for \u001b[39m\u001b[39m{\u001b[39;00mgalaxy_type\u001b[39m}\u001b[39;00m\u001b[39m Type Galaxy\u001b[39m\u001b[39m\"\u001b[39m)):\n\u001b[1;32m     30\u001b[0m     \u001b[39mfor\u001b[39;00m k, (transmission_profile, a, b) \u001b[39min\u001b[39;00m \u001b[39menumerate\u001b[39m(\u001b[39mzip\u001b[39m(transmission_profiles, a_values, b_values)):\n\u001b[0;32m---> 31\u001b[0m         magnitudes[i][j][k] \u001b[39m=\u001b[39m magnitude(SourceSpectrum(Empirical1D, points\u001b[39m=\u001b[39;49mfrequencies, lookup_table\u001b[39m=\u001b[39;49mflux, z\u001b[39m=\u001b[39;49mz, z_type\u001b[39m=\u001b[39;49m\u001b[39m\"\u001b[39;49m\u001b[39mconserve_flux\u001b[39;49m\u001b[39m\"\u001b[39;49m), transmission_profile, a, b)\n",
      "Cell \u001b[0;32mIn[18], line 20\u001b[0m, in \u001b[0;36mmagnitude\u001b[0;34m(sed, transmission_profile, a, b)\u001b[0m\n\u001b[1;32m      2\u001b[0m \u001b[39m\u001b[39m\u001b[39m\"\"\"Calculates AB calibrated magnitude \u001b[39;00m\n\u001b[1;32m      3\u001b[0m \n\u001b[1;32m      4\u001b[0m \u001b[39mParameters\u001b[39;00m\n\u001b[0;32m   (...)\u001b[0m\n\u001b[1;32m     15\u001b[0m \u001b[39m    AB calibrated magnitude\u001b[39;00m\n\u001b[1;32m     16\u001b[0m \u001b[39m\"\"\"\u001b[39;00m\n\u001b[1;32m     17\u001b[0m \u001b[39m# observed_flux = quad(lambda f: transmission_profile(f).value * 3631 / (h.value  * f), a, b)[0]\u001b[39;00m\n\u001b[1;32m     18\u001b[0m \u001b[39m# reference_flux = quad(lambda f: transmission_profile(f).value * sed(f).value / (h.value * f), a, b)[0]\u001b[39;00m\n\u001b[1;32m     19\u001b[0m \u001b[39m# m_AB = 2.5*np.log10(observed_flux/reference_flux\u001b[39;00m\n\u001b[0;32m---> 20\u001b[0m \u001b[39mreturn\u001b[39;00m \u001b[39m2.5\u001b[39m\u001b[39m*\u001b[39mnp\u001b[39m.\u001b[39mlog10(quad(\u001b[39mlambda\u001b[39;00m f: transmission_profile(f)\u001b[39m.\u001b[39mvalue \u001b[39m*\u001b[39m \u001b[39m3631\u001b[39m \u001b[39m/\u001b[39m (h\u001b[39m.\u001b[39mvalue  \u001b[39m*\u001b[39m f), a, b)[\u001b[39m0\u001b[39m]\u001b[39m/\u001b[39mquad(\u001b[39mlambda\u001b[39;49;00m f: transmission_profile(f)\u001b[39m.\u001b[39;49mvalue \u001b[39m*\u001b[39;49m sed(f)\u001b[39m.\u001b[39;49mvalue \u001b[39m/\u001b[39;49m (h\u001b[39m.\u001b[39;49mvalue \u001b[39m*\u001b[39;49m f), a, b)[\u001b[39m0\u001b[39m])\n",
      "File \u001b[0;32m~/conda/envs/roman-photo-z/lib/python3.10/site-packages/scipy/integrate/_quadpack_py.py:465\u001b[0m, in \u001b[0;36mquad\u001b[0;34m(func, a, b, args, full_output, epsabs, epsrel, limit, points, weight, wvar, wopts, maxp1, limlst, complex_func)\u001b[0m\n\u001b[1;32m    462\u001b[0m     \u001b[39mreturn\u001b[39;00m retval\n\u001b[1;32m    464\u001b[0m \u001b[39mif\u001b[39;00m weight \u001b[39mis\u001b[39;00m \u001b[39mNone\u001b[39;00m:\n\u001b[0;32m--> 465\u001b[0m     retval \u001b[39m=\u001b[39m _quad(func, a, b, args, full_output, epsabs, epsrel, limit,\n\u001b[1;32m    466\u001b[0m                    points)\n\u001b[1;32m    467\u001b[0m \u001b[39melse\u001b[39;00m:\n\u001b[1;32m    468\u001b[0m     \u001b[39mif\u001b[39;00m points \u001b[39mis\u001b[39;00m \u001b[39mnot\u001b[39;00m \u001b[39mNone\u001b[39;00m:\n",
      "File \u001b[0;32m~/conda/envs/roman-photo-z/lib/python3.10/site-packages/scipy/integrate/_quadpack_py.py:577\u001b[0m, in \u001b[0;36m_quad\u001b[0;34m(func, a, b, args, full_output, epsabs, epsrel, limit, points)\u001b[0m\n\u001b[1;32m    575\u001b[0m \u001b[39mif\u001b[39;00m points \u001b[39mis\u001b[39;00m \u001b[39mNone\u001b[39;00m:\n\u001b[1;32m    576\u001b[0m     \u001b[39mif\u001b[39;00m infbounds \u001b[39m==\u001b[39m \u001b[39m0\u001b[39m:\n\u001b[0;32m--> 577\u001b[0m         \u001b[39mreturn\u001b[39;00m _quadpack\u001b[39m.\u001b[39;49m_qagse(func,a,b,args,full_output,epsabs,epsrel,limit)\n\u001b[1;32m    578\u001b[0m     \u001b[39melse\u001b[39;00m:\n\u001b[1;32m    579\u001b[0m         \u001b[39mreturn\u001b[39;00m _quadpack\u001b[39m.\u001b[39m_qagie(func,bound,infbounds,args,full_output,epsabs,epsrel,limit)\n",
      "Cell \u001b[0;32mIn[18], line 20\u001b[0m, in \u001b[0;36mmagnitude.<locals>.<lambda>\u001b[0;34m(f)\u001b[0m\n\u001b[1;32m      2\u001b[0m \u001b[39m\u001b[39m\u001b[39m\"\"\"Calculates AB calibrated magnitude \u001b[39;00m\n\u001b[1;32m      3\u001b[0m \n\u001b[1;32m      4\u001b[0m \u001b[39mParameters\u001b[39;00m\n\u001b[0;32m   (...)\u001b[0m\n\u001b[1;32m     15\u001b[0m \u001b[39m    AB calibrated magnitude\u001b[39;00m\n\u001b[1;32m     16\u001b[0m \u001b[39m\"\"\"\u001b[39;00m\n\u001b[1;32m     17\u001b[0m \u001b[39m# observed_flux = quad(lambda f: transmission_profile(f).value * 3631 / (h.value  * f), a, b)[0]\u001b[39;00m\n\u001b[1;32m     18\u001b[0m \u001b[39m# reference_flux = quad(lambda f: transmission_profile(f).value * sed(f).value / (h.value * f), a, b)[0]\u001b[39;00m\n\u001b[1;32m     19\u001b[0m \u001b[39m# m_AB = 2.5*np.log10(observed_flux/reference_flux\u001b[39;00m\n\u001b[0;32m---> 20\u001b[0m \u001b[39mreturn\u001b[39;00m \u001b[39m2.5\u001b[39m\u001b[39m*\u001b[39mnp\u001b[39m.\u001b[39mlog10(quad(\u001b[39mlambda\u001b[39;00m f: transmission_profile(f)\u001b[39m.\u001b[39mvalue \u001b[39m*\u001b[39m \u001b[39m3631\u001b[39m \u001b[39m/\u001b[39m (h\u001b[39m.\u001b[39mvalue  \u001b[39m*\u001b[39m f), a, b)[\u001b[39m0\u001b[39m]\u001b[39m/\u001b[39mquad(\u001b[39mlambda\u001b[39;00m f: transmission_profile(f)\u001b[39m.\u001b[39mvalue \u001b[39m*\u001b[39m sed(f)\u001b[39m.\u001b[39mvalue \u001b[39m/\u001b[39m (h\u001b[39m.\u001b[39mvalue \u001b[39m*\u001b[39m f), a, b)[\u001b[39m0\u001b[39m])\n",
      "File \u001b[0;32m~/conda/envs/roman-photo-z/lib/python3.10/site-packages/synphot/spectrum.py:941\u001b[0m, in \u001b[0;36mBaseSourceSpectrum.__call__\u001b[0;34m(self, wavelengths, flux_unit, **kwargs)\u001b[0m\n\u001b[1;32m    918\u001b[0m \u001b[39m\u001b[39m\u001b[39m\"\"\"Sample the spectrum.\u001b[39;00m\n\u001b[1;32m    919\u001b[0m \n\u001b[1;32m    920\u001b[0m \u001b[39mParameters\u001b[39;00m\n\u001b[0;32m   (...)\u001b[0m\n\u001b[1;32m    938\u001b[0m \n\u001b[1;32m    939\u001b[0m \u001b[39m\"\"\"\u001b[39;00m\n\u001b[1;32m    940\u001b[0m w \u001b[39m=\u001b[39m \u001b[39mself\u001b[39m\u001b[39m.\u001b[39m_validate_wavelengths(wavelengths)\n\u001b[0;32m--> 941\u001b[0m y \u001b[39m=\u001b[39m \u001b[39mself\u001b[39;49m\u001b[39m.\u001b[39;49mmodel(w\u001b[39m.\u001b[39;49mvalue) \u001b[39m*\u001b[39m \u001b[39mself\u001b[39m\u001b[39m.\u001b[39m_internal_flux_unit\n\u001b[1;32m    943\u001b[0m \u001b[39mif\u001b[39;00m flux_unit \u001b[39mis\u001b[39;00m \u001b[39mNone\u001b[39;00m:\n\u001b[1;32m    944\u001b[0m     sampled_result \u001b[39m=\u001b[39m y\n",
      "File \u001b[0;32m~/conda/envs/roman-photo-z/lib/python3.10/site-packages/astropy/modeling/core.py:1125\u001b[0m, in \u001b[0;36mModel.__call__\u001b[0;34m(self, *args, **kwargs)\u001b[0m\n\u001b[1;32m   1120\u001b[0m \u001b[39m# prepare for model evaluation (overridden in CompoundModel)\u001b[39;00m\n\u001b[1;32m   1121\u001b[0m evaluate, inputs, broadcasted_shapes, kwargs \u001b[39m=\u001b[39m \u001b[39mself\u001b[39m\u001b[39m.\u001b[39m_pre_evaluate(\n\u001b[1;32m   1122\u001b[0m     \u001b[39m*\u001b[39margs, \u001b[39m*\u001b[39m\u001b[39m*\u001b[39mkwargs\n\u001b[1;32m   1123\u001b[0m )\n\u001b[0;32m-> 1125\u001b[0m outputs \u001b[39m=\u001b[39m \u001b[39mself\u001b[39;49m\u001b[39m.\u001b[39;49m_generic_evaluate(evaluate, inputs, fill_value, with_bbox)\n\u001b[1;32m   1127\u001b[0m \u001b[39m# post-process evaluation results (overridden in CompoundModel)\u001b[39;00m\n\u001b[1;32m   1128\u001b[0m \u001b[39mreturn\u001b[39;00m \u001b[39mself\u001b[39m\u001b[39m.\u001b[39m_post_evaluate(\n\u001b[1;32m   1129\u001b[0m     inputs, outputs, broadcasted_shapes, with_bbox, \u001b[39m*\u001b[39m\u001b[39m*\u001b[39mkwargs\n\u001b[1;32m   1130\u001b[0m )\n",
      "File \u001b[0;32m~/conda/envs/roman-photo-z/lib/python3.10/site-packages/astropy/modeling/core.py:1087\u001b[0m, in \u001b[0;36mModel._generic_evaluate\u001b[0;34m(self, evaluate, _inputs, fill_value, with_bbox)\u001b[0m\n\u001b[1;32m   1085\u001b[0m     outputs \u001b[39m=\u001b[39m bbox\u001b[39m.\u001b[39mevaluate(evaluate, _inputs, fill_value)\n\u001b[1;32m   1086\u001b[0m \u001b[39melse\u001b[39;00m:\n\u001b[0;32m-> 1087\u001b[0m     outputs \u001b[39m=\u001b[39m evaluate(_inputs)\n\u001b[1;32m   1088\u001b[0m \u001b[39mreturn\u001b[39;00m outputs\n",
      "File \u001b[0;32m~/conda/envs/roman-photo-z/lib/python3.10/site-packages/astropy/modeling/core.py:3308\u001b[0m, in \u001b[0;36mCompoundModel._pre_evaluate.<locals>.evaluate\u001b[0;34m(_inputs)\u001b[0m\n\u001b[1;32m   3307\u001b[0m \u001b[39mdef\u001b[39;00m \u001b[39mevaluate\u001b[39m(_inputs):\n\u001b[0;32m-> 3308\u001b[0m     \u001b[39mreturn\u001b[39;00m \u001b[39mself\u001b[39;49m\u001b[39m.\u001b[39;49m_evaluate(\u001b[39m*\u001b[39;49m_inputs, \u001b[39m*\u001b[39;49m\u001b[39m*\u001b[39;49mkwargs)\n",
      "File \u001b[0;32m~/conda/envs/roman-photo-z/lib/python3.10/site-packages/astropy/modeling/core.py:3336\u001b[0m, in \u001b[0;36mCompoundModel._evaluate\u001b[0;34m(self, *args, **kw)\u001b[0m\n\u001b[1;32m   3334\u001b[0m \u001b[39mif\u001b[39;00m op \u001b[39m!=\u001b[39m \u001b[39m\"\u001b[39m\u001b[39mfix_inputs\u001b[39m\u001b[39m\"\u001b[39m:\n\u001b[1;32m   3335\u001b[0m     \u001b[39mif\u001b[39;00m op \u001b[39m!=\u001b[39m \u001b[39m\"\u001b[39m\u001b[39m&\u001b[39m\u001b[39m\"\u001b[39m:\n\u001b[0;32m-> 3336\u001b[0m         leftval \u001b[39m=\u001b[39m \u001b[39mself\u001b[39;49m\u001b[39m.\u001b[39;49mleft(\u001b[39m*\u001b[39;49margs, \u001b[39m*\u001b[39;49m\u001b[39m*\u001b[39;49mkw)\n\u001b[1;32m   3337\u001b[0m         \u001b[39mif\u001b[39;00m op \u001b[39m!=\u001b[39m \u001b[39m\"\u001b[39m\u001b[39m|\u001b[39m\u001b[39m\"\u001b[39m:\n\u001b[1;32m   3338\u001b[0m             rightval \u001b[39m=\u001b[39m \u001b[39mself\u001b[39m\u001b[39m.\u001b[39mright(\u001b[39m*\u001b[39margs, \u001b[39m*\u001b[39m\u001b[39m*\u001b[39mkw)\n",
      "File \u001b[0;32m~/conda/envs/roman-photo-z/lib/python3.10/site-packages/astropy/modeling/core.py:1125\u001b[0m, in \u001b[0;36mModel.__call__\u001b[0;34m(self, *args, **kwargs)\u001b[0m\n\u001b[1;32m   1120\u001b[0m \u001b[39m# prepare for model evaluation (overridden in CompoundModel)\u001b[39;00m\n\u001b[1;32m   1121\u001b[0m evaluate, inputs, broadcasted_shapes, kwargs \u001b[39m=\u001b[39m \u001b[39mself\u001b[39m\u001b[39m.\u001b[39m_pre_evaluate(\n\u001b[1;32m   1122\u001b[0m     \u001b[39m*\u001b[39margs, \u001b[39m*\u001b[39m\u001b[39m*\u001b[39mkwargs\n\u001b[1;32m   1123\u001b[0m )\n\u001b[0;32m-> 1125\u001b[0m outputs \u001b[39m=\u001b[39m \u001b[39mself\u001b[39;49m\u001b[39m.\u001b[39;49m_generic_evaluate(evaluate, inputs, fill_value, with_bbox)\n\u001b[1;32m   1127\u001b[0m \u001b[39m# post-process evaluation results (overridden in CompoundModel)\u001b[39;00m\n\u001b[1;32m   1128\u001b[0m \u001b[39mreturn\u001b[39;00m \u001b[39mself\u001b[39m\u001b[39m.\u001b[39m_post_evaluate(\n\u001b[1;32m   1129\u001b[0m     inputs, outputs, broadcasted_shapes, with_bbox, \u001b[39m*\u001b[39m\u001b[39m*\u001b[39mkwargs\n\u001b[1;32m   1130\u001b[0m )\n",
      "File \u001b[0;32m~/conda/envs/roman-photo-z/lib/python3.10/site-packages/astropy/modeling/core.py:1087\u001b[0m, in \u001b[0;36mModel._generic_evaluate\u001b[0;34m(self, evaluate, _inputs, fill_value, with_bbox)\u001b[0m\n\u001b[1;32m   1085\u001b[0m     outputs \u001b[39m=\u001b[39m bbox\u001b[39m.\u001b[39mevaluate(evaluate, _inputs, fill_value)\n\u001b[1;32m   1086\u001b[0m \u001b[39melse\u001b[39;00m:\n\u001b[0;32m-> 1087\u001b[0m     outputs \u001b[39m=\u001b[39m evaluate(_inputs)\n\u001b[1;32m   1088\u001b[0m \u001b[39mreturn\u001b[39;00m outputs\n",
      "File \u001b[0;32m~/conda/envs/roman-photo-z/lib/python3.10/site-packages/astropy/modeling/core.py:3308\u001b[0m, in \u001b[0;36mCompoundModel._pre_evaluate.<locals>.evaluate\u001b[0;34m(_inputs)\u001b[0m\n\u001b[1;32m   3307\u001b[0m \u001b[39mdef\u001b[39;00m \u001b[39mevaluate\u001b[39m(_inputs):\n\u001b[0;32m-> 3308\u001b[0m     \u001b[39mreturn\u001b[39;00m \u001b[39mself\u001b[39;49m\u001b[39m.\u001b[39;49m_evaluate(\u001b[39m*\u001b[39;49m_inputs, \u001b[39m*\u001b[39;49m\u001b[39m*\u001b[39;49mkwargs)\n",
      "File \u001b[0;32m~/conda/envs/roman-photo-z/lib/python3.10/site-packages/astropy/modeling/core.py:3353\u001b[0m, in \u001b[0;36mCompoundModel._evaluate\u001b[0;34m(self, *args, **kw)\u001b[0m\n\u001b[1;32m   3351\u001b[0m             \u001b[39mreturn\u001b[39;00m \u001b[39mself\u001b[39m\u001b[39m.\u001b[39mright(\u001b[39m*\u001b[39mleftval, \u001b[39m*\u001b[39m\u001b[39m*\u001b[39mkw)\n\u001b[1;32m   3352\u001b[0m         \u001b[39melse\u001b[39;00m:\n\u001b[0;32m-> 3353\u001b[0m             \u001b[39mreturn\u001b[39;00m \u001b[39mself\u001b[39;49m\u001b[39m.\u001b[39;49mright(leftval, \u001b[39m*\u001b[39;49m\u001b[39m*\u001b[39;49mkw)\n\u001b[1;32m   3355\u001b[0m \u001b[39melse\u001b[39;00m:\n\u001b[1;32m   3356\u001b[0m     subs \u001b[39m=\u001b[39m \u001b[39mself\u001b[39m\u001b[39m.\u001b[39mright\n",
      "File \u001b[0;32m~/conda/envs/roman-photo-z/lib/python3.10/site-packages/astropy/modeling/core.py:418\u001b[0m, in \u001b[0;36m__call__\u001b[0;34m(self, model_set_axis, with_bounding_box, fill_value, equivalencies, inputs_map, *inputs, **new_inputs)\u001b[0m\n\u001b[1;32m    409\u001b[0m args \u001b[39m=\u001b[39m (\u001b[39m\"\u001b[39m\u001b[39mself\u001b[39m\u001b[39m\"\u001b[39m,)\n\u001b[1;32m    410\u001b[0m kwargs \u001b[39m=\u001b[39m {\n\u001b[1;32m    411\u001b[0m     \u001b[39m\"\u001b[39m\u001b[39mmodel_set_axis\u001b[39m\u001b[39m\"\u001b[39m: \u001b[39mNone\u001b[39;00m,\n\u001b[1;32m    412\u001b[0m     \u001b[39m\"\u001b[39m\u001b[39mwith_bounding_box\u001b[39m\u001b[39m\"\u001b[39m: \u001b[39mFalse\u001b[39;00m,\n\u001b[0;32m   (...)\u001b[0m\n\u001b[1;32m    415\u001b[0m     \u001b[39m\"\u001b[39m\u001b[39minputs_map\u001b[39m\u001b[39m\"\u001b[39m: \u001b[39mNone\u001b[39;00m,\n\u001b[1;32m    416\u001b[0m }\n\u001b[0;32m--> 418\u001b[0m new_call \u001b[39m=\u001b[39m make_function_with_signature(\n\u001b[1;32m    419\u001b[0m     \u001b[39m__call__\u001b[39m, args, kwargs, varargs\u001b[39m=\u001b[39m\u001b[39m\"\u001b[39m\u001b[39minputs\u001b[39m\u001b[39m\"\u001b[39m, varkwargs\u001b[39m=\u001b[39m\u001b[39m\"\u001b[39m\u001b[39mnew_inputs\u001b[39m\u001b[39m\"\u001b[39m\n\u001b[1;32m    420\u001b[0m )\n\u001b[1;32m    422\u001b[0m \u001b[39m# The following makes it look like __call__\u001b[39;00m\n\u001b[1;32m    423\u001b[0m \u001b[39m# was defined in the class\u001b[39;00m\n\u001b[1;32m    424\u001b[0m update_wrapper(new_call, \u001b[39mcls\u001b[39m)\n",
      "File \u001b[0;32m~/conda/envs/roman-photo-z/lib/python3.10/site-packages/astropy/modeling/core.py:395\u001b[0m, in \u001b[0;36m_ModelMeta._handle_special_methods.<locals>.__call__\u001b[0;34m(self, *inputs, **kwargs)\u001b[0m\n\u001b[1;32m    393\u001b[0m \u001b[39mdef\u001b[39;00m \u001b[39m__call__\u001b[39m(\u001b[39mself\u001b[39m, \u001b[39m*\u001b[39minputs, \u001b[39m*\u001b[39m\u001b[39m*\u001b[39mkwargs):\n\u001b[1;32m    394\u001b[0m \u001b[39m    \u001b[39m\u001b[39m\"\"\"Evaluate this model on the supplied inputs.\"\"\"\u001b[39;00m\n\u001b[0;32m--> 395\u001b[0m     \u001b[39mreturn\u001b[39;00m \u001b[39msuper\u001b[39;49m(\u001b[39mcls\u001b[39;49m, \u001b[39mself\u001b[39;49m)\u001b[39m.\u001b[39;49m\u001b[39m__call__\u001b[39;49m(\u001b[39m*\u001b[39;49minputs, \u001b[39m*\u001b[39;49m\u001b[39m*\u001b[39;49mkwargs)\n",
      "File \u001b[0;32m~/conda/envs/roman-photo-z/lib/python3.10/site-packages/astropy/modeling/core.py:1125\u001b[0m, in \u001b[0;36mModel.__call__\u001b[0;34m(self, *args, **kwargs)\u001b[0m\n\u001b[1;32m   1120\u001b[0m \u001b[39m# prepare for model evaluation (overridden in CompoundModel)\u001b[39;00m\n\u001b[1;32m   1121\u001b[0m evaluate, inputs, broadcasted_shapes, kwargs \u001b[39m=\u001b[39m \u001b[39mself\u001b[39m\u001b[39m.\u001b[39m_pre_evaluate(\n\u001b[1;32m   1122\u001b[0m     \u001b[39m*\u001b[39margs, \u001b[39m*\u001b[39m\u001b[39m*\u001b[39mkwargs\n\u001b[1;32m   1123\u001b[0m )\n\u001b[0;32m-> 1125\u001b[0m outputs \u001b[39m=\u001b[39m \u001b[39mself\u001b[39;49m\u001b[39m.\u001b[39;49m_generic_evaluate(evaluate, inputs, fill_value, with_bbox)\n\u001b[1;32m   1127\u001b[0m \u001b[39m# post-process evaluation results (overridden in CompoundModel)\u001b[39;00m\n\u001b[1;32m   1128\u001b[0m \u001b[39mreturn\u001b[39;00m \u001b[39mself\u001b[39m\u001b[39m.\u001b[39m_post_evaluate(\n\u001b[1;32m   1129\u001b[0m     inputs, outputs, broadcasted_shapes, with_bbox, \u001b[39m*\u001b[39m\u001b[39m*\u001b[39mkwargs\n\u001b[1;32m   1130\u001b[0m )\n",
      "File \u001b[0;32m~/conda/envs/roman-photo-z/lib/python3.10/site-packages/astropy/modeling/core.py:1087\u001b[0m, in \u001b[0;36mModel._generic_evaluate\u001b[0;34m(self, evaluate, _inputs, fill_value, with_bbox)\u001b[0m\n\u001b[1;32m   1085\u001b[0m     outputs \u001b[39m=\u001b[39m bbox\u001b[39m.\u001b[39mevaluate(evaluate, _inputs, fill_value)\n\u001b[1;32m   1086\u001b[0m \u001b[39melse\u001b[39;00m:\n\u001b[0;32m-> 1087\u001b[0m     outputs \u001b[39m=\u001b[39m evaluate(_inputs)\n\u001b[1;32m   1088\u001b[0m \u001b[39mreturn\u001b[39;00m outputs\n",
      "File \u001b[0;32m~/conda/envs/roman-photo-z/lib/python3.10/site-packages/astropy/modeling/core.py:975\u001b[0m, in \u001b[0;36mModel._pre_evaluate.<locals>.evaluate\u001b[0;34m(_inputs)\u001b[0m\n\u001b[1;32m    974\u001b[0m \u001b[39mdef\u001b[39;00m \u001b[39mevaluate\u001b[39m(_inputs):\n\u001b[0;32m--> 975\u001b[0m     \u001b[39mreturn\u001b[39;00m \u001b[39mself\u001b[39;49m\u001b[39m.\u001b[39;49mevaluate(\u001b[39m*\u001b[39;49mchain(_inputs, parameters))\n",
      "File \u001b[0;32m~/conda/envs/roman-photo-z/lib/python3.10/site-packages/synphot/models.py:432\u001b[0m, in \u001b[0;36mEmpirical1D.evaluate\u001b[0;34m(self, inputs)\u001b[0m\n\u001b[1;32m    418\u001b[0m \u001b[39mdef\u001b[39;00m \u001b[39mevaluate\u001b[39m(\u001b[39mself\u001b[39m, inputs):\n\u001b[1;32m    419\u001b[0m \u001b[39m    \u001b[39m\u001b[39m\"\"\"Evaluate the model.\u001b[39;00m\n\u001b[1;32m    420\u001b[0m \n\u001b[1;32m    421\u001b[0m \u001b[39m    Parameters\u001b[39;00m\n\u001b[0;32m   (...)\u001b[0m\n\u001b[1;32m    430\u001b[0m \n\u001b[1;32m    431\u001b[0m \u001b[39m    \"\"\"\u001b[39;00m\n\u001b[0;32m--> 432\u001b[0m     y \u001b[39m=\u001b[39m \u001b[39msuper\u001b[39;49m(Empirical1D, \u001b[39mself\u001b[39;49m)\u001b[39m.\u001b[39;49mevaluate(inputs)\n\u001b[1;32m    434\u001b[0m     \u001b[39m# Assume NaN at both ends need to be extrapolated based on\u001b[39;00m\n\u001b[1;32m    435\u001b[0m     \u001b[39m# nearest end point.\u001b[39;00m\n\u001b[1;32m    436\u001b[0m     \u001b[39mif\u001b[39;00m \u001b[39mself\u001b[39m\u001b[39m.\u001b[39mfill_value \u001b[39mis\u001b[39;00m np\u001b[39m.\u001b[39mnan:\n\u001b[1;32m    437\u001b[0m         \u001b[39m# Cannot use sampleset() due to ExtinctionModel1D.\u001b[39;00m\n",
      "File \u001b[0;32m~/conda/envs/roman-photo-z/lib/python3.10/site-packages/astropy/modeling/tabular.py:242\u001b[0m, in \u001b[0;36m_Tabular.evaluate\u001b[0;34m(self, *inputs)\u001b[0m\n\u001b[1;32m    240\u001b[0m \u001b[39mif\u001b[39;00m \u001b[39mnot\u001b[39;00m has_scipy:  \u001b[39m# pragma: no cover\u001b[39;00m\n\u001b[1;32m    241\u001b[0m     \u001b[39mraise\u001b[39;00m \u001b[39mImportError\u001b[39;00m(\u001b[39m\"\u001b[39m\u001b[39mTabular model requires scipy.\u001b[39m\u001b[39m\"\u001b[39m)\n\u001b[0;32m--> 242\u001b[0m result \u001b[39m=\u001b[39m interpn(\n\u001b[1;32m    243\u001b[0m     \u001b[39mself\u001b[39;49m\u001b[39m.\u001b[39;49mpoints,\n\u001b[1;32m    244\u001b[0m     \u001b[39mself\u001b[39;49m\u001b[39m.\u001b[39;49mlookup_table,\n\u001b[1;32m    245\u001b[0m     inputs,\n\u001b[1;32m    246\u001b[0m     method\u001b[39m=\u001b[39;49m\u001b[39mself\u001b[39;49m\u001b[39m.\u001b[39;49mmethod,\n\u001b[1;32m    247\u001b[0m     bounds_error\u001b[39m=\u001b[39;49m\u001b[39mself\u001b[39;49m\u001b[39m.\u001b[39;49mbounds_error,\n\u001b[1;32m    248\u001b[0m     fill_value\u001b[39m=\u001b[39;49m\u001b[39mself\u001b[39;49m\u001b[39m.\u001b[39;49mfill_value,\n\u001b[1;32m    249\u001b[0m )\n\u001b[1;32m    251\u001b[0m \u001b[39m# return_units not respected when points has no units\u001b[39;00m\n\u001b[1;32m    252\u001b[0m \u001b[39mif\u001b[39;00m \u001b[39misinstance\u001b[39m(\u001b[39mself\u001b[39m\u001b[39m.\u001b[39mlookup_table, u\u001b[39m.\u001b[39mQuantity) \u001b[39mand\u001b[39;00m \u001b[39mnot\u001b[39;00m \u001b[39misinstance\u001b[39m(\n\u001b[1;32m    253\u001b[0m     \u001b[39mself\u001b[39m\u001b[39m.\u001b[39mpoints[\u001b[39m0\u001b[39m], u\u001b[39m.\u001b[39mQuantity\n\u001b[1;32m    254\u001b[0m ):\n",
      "File \u001b[0;32m~/conda/envs/roman-photo-z/lib/python3.10/site-packages/scipy/interpolate/_rgi.py:655\u001b[0m, in \u001b[0;36minterpn\u001b[0;34m(points, values, xi, method, bounds_error, fill_value)\u001b[0m\n\u001b[1;32m    651\u001b[0m \u001b[39mif\u001b[39;00m method \u001b[39min\u001b[39;00m [\u001b[39m\"\u001b[39m\u001b[39mlinear\u001b[39m\u001b[39m\"\u001b[39m, \u001b[39m\"\u001b[39m\u001b[39mnearest\u001b[39m\u001b[39m\"\u001b[39m, \u001b[39m\"\u001b[39m\u001b[39mslinear\u001b[39m\u001b[39m\"\u001b[39m, \u001b[39m\"\u001b[39m\u001b[39mcubic\u001b[39m\u001b[39m\"\u001b[39m, \u001b[39m\"\u001b[39m\u001b[39mquintic\u001b[39m\u001b[39m\"\u001b[39m, \u001b[39m\"\u001b[39m\u001b[39mpchip\u001b[39m\u001b[39m\"\u001b[39m]:\n\u001b[1;32m    652\u001b[0m     interp \u001b[39m=\u001b[39m RegularGridInterpolator(points, values, method\u001b[39m=\u001b[39mmethod,\n\u001b[1;32m    653\u001b[0m                                      bounds_error\u001b[39m=\u001b[39mbounds_error,\n\u001b[1;32m    654\u001b[0m                                      fill_value\u001b[39m=\u001b[39mfill_value)\n\u001b[0;32m--> 655\u001b[0m     \u001b[39mreturn\u001b[39;00m interp(xi)\n\u001b[1;32m    656\u001b[0m \u001b[39melif\u001b[39;00m method \u001b[39m==\u001b[39m \u001b[39m\"\u001b[39m\u001b[39msplinef2d\u001b[39m\u001b[39m\"\u001b[39m:\n\u001b[1;32m    657\u001b[0m     xi_shape \u001b[39m=\u001b[39m xi\u001b[39m.\u001b[39mshape\n",
      "File \u001b[0;32m~/conda/envs/roman-photo-z/lib/python3.10/site-packages/scipy/interpolate/_rgi.py:329\u001b[0m, in \u001b[0;36mRegularGridInterpolator.__call__\u001b[0;34m(self, xi, method)\u001b[0m\n\u001b[1;32m    326\u001b[0m \u001b[39mif\u001b[39;00m method \u001b[39mnot\u001b[39;00m \u001b[39min\u001b[39;00m \u001b[39mself\u001b[39m\u001b[39m.\u001b[39m_ALL_METHODS:\n\u001b[1;32m    327\u001b[0m     \u001b[39mraise\u001b[39;00m \u001b[39mValueError\u001b[39;00m(\u001b[39m\"\u001b[39m\u001b[39mMethod \u001b[39m\u001b[39m'\u001b[39m\u001b[39m%s\u001b[39;00m\u001b[39m'\u001b[39m\u001b[39m is not defined\u001b[39m\u001b[39m\"\u001b[39m \u001b[39m%\u001b[39m method)\n\u001b[0;32m--> 329\u001b[0m xi, xi_shape, ndim, nans, out_of_bounds \u001b[39m=\u001b[39m \u001b[39mself\u001b[39;49m\u001b[39m.\u001b[39;49m_prepare_xi(xi)\n\u001b[1;32m    331\u001b[0m \u001b[39mif\u001b[39;00m method \u001b[39m==\u001b[39m \u001b[39m\"\u001b[39m\u001b[39mlinear\u001b[39m\u001b[39m\"\u001b[39m:\n\u001b[1;32m    332\u001b[0m     indices, norm_distances \u001b[39m=\u001b[39m \u001b[39mself\u001b[39m\u001b[39m.\u001b[39m_find_indices(xi\u001b[39m.\u001b[39mT)\n",
      "File \u001b[0;32m~/conda/envs/roman-photo-z/lib/python3.10/site-packages/scipy/interpolate/_rgi.py:373\u001b[0m, in \u001b[0;36mRegularGridInterpolator._prepare_xi\u001b[0;34m(self, xi)\u001b[0m\n\u001b[1;32m    368\u001b[0m     \u001b[39mraise\u001b[39;00m \u001b[39mValueError\u001b[39;00m(\u001b[39m\"\u001b[39m\u001b[39mThe requested sample points xi have dimension \u001b[39m\u001b[39m\"\u001b[39m\n\u001b[1;32m    369\u001b[0m                      \u001b[39mf\u001b[39m\u001b[39m\"\u001b[39m\u001b[39m{\u001b[39;00mxi\u001b[39m.\u001b[39mshape[\u001b[39m-\u001b[39m\u001b[39m1\u001b[39m]\u001b[39m}\u001b[39;00m\u001b[39m but this \u001b[39m\u001b[39m\"\u001b[39m\n\u001b[1;32m    370\u001b[0m                      \u001b[39mf\u001b[39m\u001b[39m\"\u001b[39m\u001b[39mRegularGridInterpolator has dimension \u001b[39m\u001b[39m{\u001b[39;00mndim\u001b[39m}\u001b[39;00m\u001b[39m\"\u001b[39m)\n\u001b[1;32m    372\u001b[0m xi_shape \u001b[39m=\u001b[39m xi\u001b[39m.\u001b[39mshape\n\u001b[0;32m--> 373\u001b[0m xi \u001b[39m=\u001b[39m xi\u001b[39m.\u001b[39;49mreshape(\u001b[39m-\u001b[39;49m\u001b[39m1\u001b[39;49m, xi_shape[\u001b[39m-\u001b[39;49m\u001b[39m1\u001b[39;49m])\n\u001b[1;32m    374\u001b[0m xi \u001b[39m=\u001b[39m np\u001b[39m.\u001b[39masarray(xi, dtype\u001b[39m=\u001b[39m\u001b[39mfloat\u001b[39m)\n\u001b[1;32m    376\u001b[0m \u001b[39m# find nans in input\u001b[39;00m\n",
      "\u001b[0;31mKeyboardInterrupt\u001b[0m: "
     ]
    }
   ],
   "source": [
    "def magnitude(sed: SourceSpectrum, transmission_profile: SpectralElement, a: float, b: float) -> float:\n",
    "    \"\"\"Calculates AB calibrated magnitude \n",
    "\n",
    "    Parameters\n",
    "    ----------\n",
    "    sed: synphot.units.SourceSpectrum\n",
    "        Spectral energy distribution\n",
    "\n",
    "    transmission_profile: synphot.units.SpectralElement\n",
    "        Transmission profile for a particular filter\n",
    "    \n",
    "    Returns\n",
    "    -------\n",
    "    m_AB: float\n",
    "        AB calibrated magnitude\n",
    "    \"\"\"\n",
    "    # observed_flux = quad(lambda f: transmission_profile(f).value * 3631 / (h.value  * f), a, b)[0]\n",
    "    # reference_flux = quad(lambda f: transmission_profile(f).value * sed(f).value / (h.value * f), a, b)[0]\n",
    "    # m_AB = 2.5*np.log10(observed_flux/reference_flux\n",
    "    return 2.5*np.log10(quad(lambda f: transmission_profile(f).value * 3631 / (h.value  * f), a, b)[0]/quad(lambda f: transmission_profile(f).value * sed(f).value / (h.value * f), a, b)[0]) # m_AB\n",
    "\n",
    "magnitudes = np.empty((8, len(z_range), len(transmission_profiles)))\n",
    "for i, sed_file in enumerate([sed_file for sed_file in os.listdir(sed_dir) if \"CWWSB4\" not in sed_file]):\n",
    "    galaxy_type = sed_file.rsplit('_', 1)[0]\n",
    "    wavelength, flux = np.loadtxt(os.path.join(sed_dir, sed_file)).T # Angstrom, nJy\n",
    "    if wavelength[0] == 0:\n",
    "        wavelength, flux = wavelength[1:], flux[1:]\n",
    "    frequencies, flux = spectral(wavelength*u.AA), flux*1e-9*u.Jy\n",
    "    for j, z in enumerate(tqdm(z_range, desc=f\"Redshifts for {galaxy_type} Type Galaxy\")):\n",
    "        for k, (transmission_profile, a, b) in enumerate(zip(transmission_profiles, a_values, b_values)):\n",
    "            magnitudes[i][j][k] = magnitude(SourceSpectrum(Empirical1D, points=frequencies, lookup_table=flux, z=z, z_type=\"conserve_flux\"), transmission_profile, a, b)"
   ]
  }
 ],
 "metadata": {
  "kernelspec": {
   "display_name": "Python 3.10.12 ('roman-photo-z')",
   "language": "python",
   "name": "python3"
  },
  "language_info": {
   "codemirror_mode": {
    "name": "ipython",
    "version": 3
   },
   "file_extension": ".py",
   "mimetype": "text/x-python",
   "name": "python",
   "nbconvert_exporter": "python",
   "pygments_lexer": "ipython3",
   "version": "3.10.12"
  },
  "orig_nbformat": 4,
  "vscode": {
   "interpreter": {
    "hash": "8aa0c2f57cf171e133e311e4f4b8577b9377420e968d334b71ffdbfc431eecf1"
   }
  }
 },
 "nbformat": 4,
 "nbformat_minor": 2
}
