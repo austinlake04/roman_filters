{
 "cells": [
  {
   "cell_type": "code",
   "execution_count": null,
   "metadata": {},
   "outputs": [],
   "source": [
    "import sys\n",
    "import os\n",
    "import desc_bpz\n",
    "cwd, _ = os.path.split(\"__file__\")\n",
    "parent_dir = os.path.abspath(os.path.join(cwd, \"..\"))\n",
    "print(parent_dir)\n",
    "os.environ[\"BPZDATAPATH\"] = os.path.join(parent_dir, \"DESC_BPZ\", \"src\", \"desc_bpz\", \"data_files\")\n"
   ]
  },
  {
   "attachments": {},
   "cell_type": "markdown",
   "metadata": {},
   "source": [
    "## BPZ Tests"
   ]
  },
  {
   "cell_type": "code",
   "execution_count": null,
   "metadata": {},
   "outputs": [],
   "source": [
    "cwd = os.path.abspath(os.path.split(\"__file__\")[0])\n",
    "parent_dir = os.path.join(cwd, \"..\")\n",
    "# os.environ[\"LEPHAREDIR\"] = os.path.join(parent_dir, \"LEPHARE\")\n",
    "# os.environ[\"LEPHAREWORK\"] = os.path.join(cwd)\n",
    "os.environ[\"BPZDATAPATH\"] = os.path.abspath(os.path.join(parent_dir, \"DESC_BPZ\", \"src\", \"desc_bpz\", \"data_files\"))\n",
    "data_dir = os.environ.get(\"BPZDATAPATH\", None)\n",
    "fil_dir = None if data_dir is None else os.path.join(data_dir, \"FILTER\")\n",
    "ab_dir = None if data_dir is None else os.path.join(data_dir, \"AB\")\n",
    "sed_dir = None if data_dir is None else os.path.join(data_dir, \"SED\")\n",
    "paths = [cwd, parent_dir, os.environ.get(\"BPZDATAPATH\", None)]\n",
    "for path in paths:\n",
    "    print(path)"
   ]
  },
  {
   "cell_type": "code",
   "execution_count": null,
   "metadata": {},
   "outputs": [],
   "source": [
    "import numpy as np\n",
    "from desc_bpz.bpz_tools_py3 import prior_with_dict, prior\n",
    "\n",
    "def test_old_vs_new_prior():\n",
    "    zgrid = np.arange(0, 10.01, 0.1)\n",
    "    mags = np.array([20.5, 21., 22.])\n",
    "    # copy params needed for hdfn_gen prior\n",
    "    paramdict = dict(fo_arr=[0.35, 0.5], kt_arr=[0.45, 0.147],\n",
    "                     alpha_arr=[2.465, 1.806, 0.906],\n",
    "                     zo_arr=[0.431, 0.390, 0.0626],\n",
    "                     km_arr=[0.0913, 0.0636, 0.123],\n",
    "                     m0=20.0,\n",
    "                     numpertype=[1, 2, 3])\n",
    "\n",
    "    for mag in mags:\n",
    "        oldprior = prior(zgrid, mag, 'hdfn_gen')\n",
    "        newprior = prior_with_dict(zgrid, mag, paramdict)\n",
    "        assert (oldprior == newprior).all()\n",
    "test_old_vs_new_prior()"
   ]
  },
  {
   "cell_type": "code",
   "execution_count": null,
   "metadata": {},
   "outputs": [],
   "source": [
    "import os\n",
    "import pytest\n",
    "# dirname, _ = os.path.split(__file__)\n",
    "# parent = os.path.join(dirname, '../src/desc_bpz/data_files/')\n",
    "\n",
    "\n",
    "# This test has to go first \n",
    "def test_no_path():\n",
    "    tmp = os.environ.get(\"BPZDATAPATH\")\n",
    "    if tmp is not None:\n",
    "        del os.environ[\"BPZDATAPATH\"]\n",
    "\n",
    "    import desc_bpz.paths\n",
    "\n",
    "    # Future proof in case a later test import the\n",
    "    # module and are called first\n",
    "    if desc_bpz.paths.data_dir is not None:\n",
    "        # In this case first restore the env var\n",
    "        if tmp is not None:\n",
    "            os.environ[\"BPZDATAPATH\"] = tmp\n",
    "        # then mark the test as skipped\n",
    "        pytest.skip(\"desc_bpz already imported by another test and path set\")\n",
    "\n",
    "    # should fail if BPZDATAPATH not set and we have not set manually\n",
    "    with pytest.raises(RuntimeError):\n",
    "        print(desc_bpz.paths.get_ab_file(\"El_B2004a.DC2LSST_g.AB\"))\n",
    "\n",
    "    # restore env var\n",
    "    if tmp is not None:\n",
    "        os.environ[\"BPZDATAPATH\"] = tmp\n",
    "\n",
    "\n",
    "def test_path():\n",
    "    import desc_bpz.paths\n",
    "    data_dir = os.environ.get(\"BPZDATAPATH\", None)\n",
    "    fil_dir = None if data_dir is None else data_dir + \"/FILTER/\"\n",
    "    ab_dir = None if data_dir is None else data_dir + \"/AB/\"\n",
    "    sed_dir = None if data_dir is None else data_dir + \"/SED/\"\n",
    "    print(os.environ.get(\"BPZDATAPATH\"))\n",
    "    assert os.path.exists(desc_bpz.paths.get_ab_file(\"El_B2004a.DC2LSST_g.AB\"))\n",
    "    assert os.path.exists(desc_bpz.paths.get_fil_file(\"DC2LSST_g.res\"))\n",
    "    assert os.path.exists(desc_bpz.paths.get_sed_file(\"CWWSB4.list\"))\n",
    "\n",
    "\n",
    "test_no_path()\n",
    "test_path()\n"
   ]
  },
  {
   "cell_type": "code",
   "execution_count": null,
   "metadata": {},
   "outputs": [],
   "source": [
    "import os\n",
    "import git\n",
    "\n",
    "base_dir = os.path.abspath(git.Repo('.', search_parent_directories=True).working_tree_dir)\n",
    "os.environ[\"BPZDATAPATH\"] = os.path.abspath(os.path.join(base_dir, \"DESC_BPZ\", \"src\", \"desc_bpz\", \"data_files\"))\n",
    "path = \"$BPZDATAPATH\"\n",
    "print(os.path.expandvars(path))"
   ]
  },
  {
   "cell_type": "markdown",
   "metadata": {},
   "source": [
    "## Roman Filter Transmission Data"
   ]
  },
  {
   "cell_type": "code",
   "execution_count": 6,
   "metadata": {},
   "outputs": [
    {
     "name": "stdout",
     "output_type": "stream",
     "text": [
      "Gains above one:\n",
      "Series([], Name: F062, dtype: float64)\n",
      "Series([], Name: F087, dtype: float64)\n",
      "Series([], Name: F106, dtype: float64)\n",
      "Series([], Name: F129, dtype: float64)\n",
      "Series([], Name: F158, dtype: float64)\n",
      "Series([], Name: F184, dtype: float64)\n",
      "Series([], Name: F146, dtype: float64)\n",
      "Series([], Name: F213, dtype: float64)\n"
     ]
    }
   ],
   "source": [
    "import pandas as pd\n",
    "import numpy as np\n",
    "aperature = np.pi * 1.2**2\n",
    "df = pd.read_csv(\"Roman_effarea_20210614.csv\").drop(columns=['SNPrism', 'Grism_1stOrder', 'Grism_0thOrder'])\n",
    "filters = ['F062', 'F087', 'F106', 'F129', 'F158', 'F184', 'F146', 'F213']\n",
    "df[\"Wave\"] *= 10000 # convert from micron to angstrom units for BPZ\n",
    "df[\"Wave\"] = df[\"Wave\"].astype(int) # convert from micron to angstrom units\n",
    "print(\"Gains above one:\")\n",
    "for filter in filters:\n",
    "    df[filter] = df[filter] / aperature # effective area to gain (1e-10 is needed to convert from angstrom to meters)\n",
    "    print(df[filter][df[filter]>1])"
   ]
  },
  {
   "cell_type": "code",
   "execution_count": 7,
   "metadata": {},
   "outputs": [],
   "source": [
    "\n",
    "for filter in filters:\n",
    "    df[[\"Wave\", filter]].rename(columns={\"Wave\": \"#Wavelength(AA)\", filter: \"Transmission\"}).to_csv(f\"data_files/RST_{filter}.res\", sep=\" \", index=False)"
   ]
  },
  {
   "cell_type": "code",
   "execution_count": 16,
   "metadata": {},
   "outputs": [],
   "source": [
    "from astropy import units as u\n",
    "from astropy.constants import c"
   ]
  },
  {
   "cell_type": "code",
   "execution_count": 17,
   "metadata": {},
   "outputs": [
    {
     "name": "stdout",
     "output_type": "stream",
     "text": [
      "<class 'astropy.units.quantity.Quantity'>\n"
     ]
    }
   ],
   "source": [
    "equivalencies = [ (u.Jy, u.erg/u.s/u.cm**2/u.AA, lambda x: 1e-33 * x / c.value , lambda x: c.value * x / 1e-33) ] \n",
    "LSST_units = 1e-9*u.Jy\n",
    "flux_conversion = (LSST_units).to(u.erg/u.s/u.cm**2/u.AA, equivalencies=equivalencies)\n",
    "print(type(flux_conversion))"
   ]
  }
 ],
 "metadata": {
  "kernelspec": {
   "display_name": "Python 3.10.12 ('roman-photo-z')",
   "language": "python",
   "name": "python3"
  },
  "language_info": {
   "codemirror_mode": {
    "name": "ipython",
    "version": 3
   },
   "file_extension": ".py",
   "mimetype": "text/x-python",
   "name": "python",
   "nbconvert_exporter": "python",
   "pygments_lexer": "ipython3",
   "version": "3.10.12"
  },
  "orig_nbformat": 4,
  "vscode": {
   "interpreter": {
    "hash": "8aa0c2f57cf171e133e311e4f4b8577b9377420e968d334b71ffdbfc431eecf1"
   }
  }
 },
 "nbformat": 4,
 "nbformat_minor": 2
}
